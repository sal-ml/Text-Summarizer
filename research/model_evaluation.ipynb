{
 "cells": [
  {
   "cell_type": "code",
   "execution_count": 2,
   "metadata": {},
   "outputs": [],
   "source": [
    "import os"
   ]
  },
  {
   "cell_type": "code",
   "execution_count": 3,
   "metadata": {},
   "outputs": [],
   "source": [
    "%pwd\n",
    "os.chdir('../')"
   ]
  },
  {
   "cell_type": "code",
   "execution_count": 9,
   "metadata": {},
   "outputs": [],
   "source": [
    "from dataclasses import dataclass\n",
    "from pathlib import Path\n",
    "\n",
    "@dataclass(frozen=True)\n",
    "class ModelEvaluationConfig:\n",
    "  root_dir: Path\n",
    "  data_path: Path\n",
    "  model_ckpt: Path\n",
    "  tokenizer_path: Path\n",
    "  metric_file_name: Path"
   ]
  },
  {
   "cell_type": "code",
   "execution_count": 6,
   "metadata": {},
   "outputs": [],
   "source": [
    "from src.textSummarizer.constant import CONFIG_FILE_PATH, PARAMS_FILE_PATH\n",
    "from src.textSummarizer.utils.common import read_yaml, create_directories"
   ]
  },
  {
   "cell_type": "code",
   "execution_count": 10,
   "metadata": {},
   "outputs": [],
   "source": [
    "class ConfigurationManager:\n",
    "    def __init__(self, \n",
    "                 config_file_path = CONFIG_FILE_PATH, \n",
    "                 params_file_path = PARAMS_FILE_PATH):\n",
    "        self.config = read_yaml(config_file_path)\n",
    "        self.params = read_yaml(params_file_path)\n",
    "        \n",
    "        create_directories([self.config.artifacts_root])\n",
    "    \n",
    "    def get_model_evaluation_config(self) -> ModelEvaluationConfig:\n",
    "        config = self.config.model_evaluation\n",
    "        create_directories([config.root_dir])\n",
    "        \n",
    "        return ModelEvaluationConfig(\n",
    "            root_dir = Path(config.root_dir),\n",
    "            data_path = Path(config.data_path),\n",
    "            model_ckpt = Path(config.model_ckpt),\n",
    "            tokenizer_path = Path(config.tokenizer_path),\n",
    "            metric_file_name = Path(config.metric_file_name)\n",
    "        )"
   ]
  },
  {
   "cell_type": "code",
   "execution_count": 20,
   "metadata": {},
   "outputs": [],
   "source": [
    "from transformers import AutoModelForSeq2SeqLM, AutoTokenizer\n",
    "from datasets import load_dataset, load_from_disk\n",
    "import torch\n",
    "import pandas as pd\n",
    "from tqdm import tqdm\n",
    "import evaluate\n",
    "from rouge_score import rouge_scorer, scoring"
   ]
  },
  {
   "cell_type": "code",
   "execution_count": 25,
   "metadata": {},
   "outputs": [],
   "source": [
    "class ModelEvaluation:\n",
    "    def __init__(self, config: ModelEvaluationConfig):\n",
    "        self.config = config\n",
    "    \n",
    "    \n",
    "    def generate_batch_size_chunks(self, list_of_elements, batch_size):\n",
    "        \"split the dataset into smaller batches that we can process simultaneously\"\n",
    "        \n",
    "        for i in range(0, len(list_of_elements), batch_size):\n",
    "            yield list_of_elements[i: i + batch_size]\n",
    "            \n",
    "        \n",
    "    def calculate_metric_on_test_ds(self, \n",
    "                                    dataset, \n",
    "                                    metric, \n",
    "                                    model, \n",
    "                                    tokenizer, \n",
    "                                    device,\n",
    "                                    batch_size=16, \n",
    "                                    column_text = 'article',\n",
    "                                    column_summary = 'highlights'):\n",
    "        article_batches = list(self.generate_batch_size_chunks(dataset[column_text], batch_size))\n",
    "        target_batches = list(self.generate_batch_size_chunks(dataset[column_summary], batch_size))\n",
    "        \n",
    "        \n",
    "        for article_batch, target_batch in tqdm(\n",
    "            zip(article_batches, target_batches), total=len(articles_batches)):\n",
    "            \n",
    "            inputs = tokenizer(article_batch, \n",
    "                               max_length = 1024, \n",
    "                               truncation = True, \n",
    "                               padding='max_length', \n",
    "                               return_tensors = 'pt')\n",
    "            \n",
    "            summaries = model.generate(input_ids = inputs['input_ids'].to(device),\n",
    "                                       attention_mask = inputs['attention_maks'].to(device),\n",
    "                                       length_penalty = 0.8,\n",
    "                                       num_beams = 8,\n",
    "                                       max_length = 128)\n",
    "            \n",
    "            decoded_summaries = [tokenizer.decode(s, skip_special_tokens = True, clean_up_tokenization_spaces = True,) for s in summaries]\n",
    "            \n",
    "            \n",
    "            decoded_summaries = [d.replace(\"\", \" \") for d in decoded_summaries]\n",
    "            \n",
    "            metric.add_batch(predictions = decoded_summaries, refrences = target_batch)\n",
    "            \n",
    "        score = metric.compute()\n",
    "        return score\n",
    "    \n",
    "    def evaluate(self):\n",
    "        device = 'cuda' if torch.cuda.is_available() else 'cpu'\n",
    "        tokeinizer = AutoTokenizer.from_pretrained(self.config.tokeinizer_path)\n",
    "        model_pegasus = AutoModelForSeq2SeqLM.from_pretrained(self.config.model_path).to(device)\n",
    "        \n",
    "        dataset_samsum_pt = load_from_disk(self.config.data_path)\n",
    "        \n",
    "        rogue_names = ['rogue1', 'rogue2', 'rogueL', 'rogueLSum']\n",
    "        \n",
    "        rogue_metric = evaluate.load('rouge')\n",
    "        \n",
    "        score = self.calculate_metric_on_test_ds(dataset = dataset_samsum_pt['test'], \n",
    "                                                 metric = rogue_metric,\n",
    "                                                 model = model_pegasus,\n",
    "                                                 tokeinizer = tokeinizer,\n",
    "                                                 device = device,\n",
    "                                                 column_text = 'dialogue',\n",
    "                                                 column_summary = 'summary')\n",
    "        \n",
    "        rouge_dict = dict( (rn, score[rn].mid.fmeasure) for rn in rouge_names )\n",
    "\n",
    "        df = pd.DataFrame(rouge_dict, index = ['pegasus'] )\n",
    "        df.to_csv(self.config.metric_file_name, index=False)"
   ]
  },
  {
   "cell_type": "code",
   "execution_count": null,
   "metadata": {},
   "outputs": [],
   "source": [
    "try:\n",
    "    config = ConfigurationManager()\n",
    "    model_evaluation_config = config.get_model_evaluation_config()\n",
    "    model_evaluation = ModelTrainer(config=model_evaluation_config)\n",
    "    model_evaluation.evaluate()\n",
    "except Exception as e:\n",
    "    logger.error(f\"Error in model trainer: {str(e)}\")"
   ]
  },
  {
   "cell_type": "code",
   "execution_count": null,
   "metadata": {},
   "outputs": [],
   "source": []
  }
 ],
 "metadata": {
  "kernelspec": {
   "display_name": "Python 3",
   "language": "python",
   "name": "python3"
  },
  "language_info": {
   "codemirror_mode": {
    "name": "ipython",
    "version": 3
   },
   "file_extension": ".py",
   "mimetype": "text/x-python",
   "name": "python",
   "nbconvert_exporter": "python",
   "pygments_lexer": "ipython3",
   "version": "3.12.4"
  }
 },
 "nbformat": 4,
 "nbformat_minor": 2
}
