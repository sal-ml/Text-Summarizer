{
 "cells": [
  {
   "cell_type": "code",
   "execution_count": 1,
   "metadata": {},
   "outputs": [],
   "source": [
    "import os"
   ]
  },
  {
   "cell_type": "code",
   "execution_count": 2,
   "metadata": {},
   "outputs": [],
   "source": [
    "os.chdir('../')"
   ]
  },
  {
   "cell_type": "code",
   "execution_count": 3,
   "metadata": {},
   "outputs": [
    {
     "data": {
      "text/plain": [
       "'c:\\\\Users\\\\ksalm\\\\OneDrive\\\\Desktop\\\\krish_resume_projects\\\\NLP\\\\Text-Summarizer'"
      ]
     },
     "execution_count": 3,
     "metadata": {},
     "output_type": "execute_result"
    }
   ],
   "source": [
    "%pwd"
   ]
  },
  {
   "cell_type": "code",
   "execution_count": 4,
   "metadata": {},
   "outputs": [],
   "source": [
    "from dataclasses import dataclass\n",
    "from pathlib import Path\n",
    "\n",
    "@dataclass(frozen=True)\n",
    "class DataIngestionConfig:\n",
    "    root_dir: Path\n",
    "    source_URL: str\n",
    "    local_data_dir: Path\n",
    "    unzip_data_dir: Path"
   ]
  },
  {
   "cell_type": "code",
   "execution_count": 5,
   "metadata": {},
   "outputs": [],
   "source": [
    "from src.textSummarizer.constant import CONFIG_FILE_PATH, PARAMS_FILE_PATH\n",
    "from src.textSummarizer.utils.common import read_yaml, create_directories"
   ]
  },
  {
   "cell_type": "code",
   "execution_count": 6,
   "metadata": {},
   "outputs": [],
   "source": [
    "class ConfigurationManager:\n",
    "    def __init__(self, \n",
    "                 config_file_path = CONFIG_FILE_PATH, \n",
    "                 params_file_path = PARAMS_FILE_PATH):\n",
    "        self.config = read_yaml(config_file_path)\n",
    "        self.params = read_yaml(params_file_path)\n",
    "        \n",
    "        create_directories([self.config.artifacts_root])\n",
    "    \n",
    "    def get_data_ingestion_config(self) -> DataIngestionConfig:\n",
    "        config = self.config.data_ingestion\n",
    "        create_directories([config.root_dir])\n",
    "        \n",
    "        return DataIngestionConfig(\n",
    "            root_dir = Path(config.root_dir),\n",
    "            source_URL = config.source_URL,\n",
    "            local_data_dir = Path(config.local_data_dir),\n",
    "            unzip_data_dir = Path(config.unzip_data_dir)\n",
    "        )"
   ]
  },
  {
   "cell_type": "code",
   "execution_count": 7,
   "metadata": {},
   "outputs": [],
   "source": [
    "import os\n",
    "import urllib.request as request\n",
    "import zipfile\n",
    "from textSummarizer.logging import logger\n",
    "from textSummarizer.utils.common import get_size"
   ]
  },
  {
   "cell_type": "code",
   "execution_count": 8,
   "metadata": {},
   "outputs": [],
   "source": [
    "class DataIngestion:\n",
    "    def __init__(self, config: DataIngestionConfig):\n",
    "        self.config = config\n",
    "    \n",
    "    def download_data(self):\n",
    "        ''' \n",
    "        downloads the data from the source URL\n",
    "        '''\n",
    "        if not os.path.exists(self.config.local_data_dir):\n",
    "            filename, headers = request.urlretrieve(\n",
    "                url = self.config.source_URL, \n",
    "                filename = self.config.local_data_dir)\n",
    "            logger.info(f\"{filename} download! with following information: \\n{headers}\")\n",
    "        else:\n",
    "            logger.info(f\"File already exists of size {get_size(Path(self.config.local_data_dir))}\")\n",
    "            \n",
    "    def unzip_data(self):\n",
    "        '''\n",
    "        extracts the zip file to the specified directory\n",
    "        '''\n",
    "        unzip_data_dir = self.config.unzip_data_dir\n",
    "        # create directory if not exists\n",
    "        os.makedirs(unzip_data_dir, exist_ok=True)\n",
    "        \n",
    "        print(self.config.local_data_dir)\n",
    "        # unzip data\n",
    "        with zipfile.ZipFile(self.config.local_data_dir, 'r') as zip_ref:\n",
    "            zip_ref.extractall(unzip_data_dir)\n",
    "            logger.info(f\"Unzipped data at {unzip_data_dir}\")"
   ]
  },
  {
   "cell_type": "code",
   "execution_count": 9,
   "metadata": {},
   "outputs": [
    {
     "name": "stdout",
     "output_type": "stream",
     "text": [
      "src\\textSummarizer\\config\\config.yaml\n",
      "[2025-01-05 19:25:38,736 : INFO : common : yaml file: src\\textSummarizer\\config\\config.yaml loaded successfully]\n",
      "params\\params.yaml\n",
      "[2025-01-05 19:25:38,740 : INFO : common : yaml file: params\\params.yaml loaded successfully]\n",
      "[2025-01-05 19:25:38,742 : INFO : common : Created directory at: artifacts]\n",
      "[2025-01-05 19:25:38,744 : INFO : common : Created directory at: artifacts/data_ingestion]\n",
      "[2025-01-05 19:25:40,721 : INFO : 2367143137 : artifacts\\data_ingestion\\samsumdata.zip download! with following information: \n",
      "Connection: close\n",
      "Content-Length: 7903594\n",
      "Cache-Control: max-age=300\n",
      "Content-Security-Policy: default-src 'none'; style-src 'unsafe-inline'; sandbox\n",
      "Content-Type: application/zip\n",
      "ETag: \"dbc016a060da18070593b83afff580c9b300f0b6ea4147a7988433e04df246ca\"\n",
      "Strict-Transport-Security: max-age=31536000\n",
      "X-Content-Type-Options: nosniff\n",
      "X-Frame-Options: deny\n",
      "X-XSS-Protection: 1; mode=block\n",
      "X-GitHub-Request-Id: D96B:291D25:2AF9F7:3053F2:677B3113\n",
      "Accept-Ranges: bytes\n",
      "Date: Mon, 06 Jan 2025 01:25:40 GMT\n",
      "Via: 1.1 varnish\n",
      "X-Served-By: cache-iah17258-IAH\n",
      "X-Cache: MISS\n",
      "X-Cache-Hits: 0\n",
      "X-Timer: S1736126740.943518,VS0,VE461\n",
      "Vary: Authorization,Accept-Encoding,Origin\n",
      "Access-Control-Allow-Origin: *\n",
      "Cross-Origin-Resource-Policy: cross-origin\n",
      "X-Fastly-Request-ID: 9e5e301bbea0c1ded9dd50f3ae25206ebcf93158\n",
      "Expires: Mon, 06 Jan 2025 01:30:40 GMT\n",
      "Source-Age: 0\n",
      "\n",
      "]\n",
      "artifacts\\data_ingestion\\samsumdata.zip\n",
      "[2025-01-05 19:25:40,948 : INFO : 2367143137 : Unzipped data at artifacts\\data_ingestion]\n"
     ]
    }
   ],
   "source": [
    "try:\n",
    "    config = ConfigurationManager()\n",
    "    data_ingestion_config = config.get_data_ingestion_config()\n",
    "    data_ingestion = DataIngestion(config=data_ingestion_config)\n",
    "    data_ingestion.download_data()\n",
    "    data_ingestion.unzip_data()\n",
    "except Exception as e:\n",
    "    logger.error(f\"Error in data ingestion: {str(e)}\")"
   ]
  },
  {
   "cell_type": "code",
   "execution_count": null,
   "metadata": {},
   "outputs": [],
   "source": []
  }
 ],
 "metadata": {
  "kernelspec": {
   "display_name": "Python 3",
   "language": "python",
   "name": "python3"
  },
  "language_info": {
   "codemirror_mode": {
    "name": "ipython",
    "version": 3
   },
   "file_extension": ".py",
   "mimetype": "text/x-python",
   "name": "python",
   "nbconvert_exporter": "python",
   "pygments_lexer": "ipython3",
   "version": "3.12.4"
  }
 },
 "nbformat": 4,
 "nbformat_minor": 2
}
